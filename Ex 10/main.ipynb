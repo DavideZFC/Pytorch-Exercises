{
 "cells": [
  {
   "cell_type": "code",
   "execution_count": 1,
   "id": "ac138d13",
   "metadata": {},
   "outputs": [],
   "source": [
    "import torch\n",
    "import torch.nn as nn"
   ]
  },
  {
   "cell_type": "code",
   "execution_count": 2,
   "id": "83c8f0af",
   "metadata": {},
   "outputs": [],
   "source": [
    "class SimpleNN(nn.Module):\n",
    "    def __init__(self, input_dim=2, hidden_size=10):\n",
    "        self.layer1 = nn.Linear(input_dim, hidden_size)\n",
    "        self.layer2 = nn.Linear(hidden_size, 1)\n",
    "    \n",
    "    def forward(self, x):\n",
    "        return self.layer2(torch.relu(self.layer1(x)))"
   ]
  },
  {
   "cell_type": "code",
   "execution_count": 6,
   "id": "90e5de89",
   "metadata": {},
   "outputs": [
    {
     "name": "stdout",
     "output_type": "stream",
     "text": [
      "tensor([1., 2.])\n",
      "tensor([0., 1., 1., 0., 1., 1., 1., 0., 0., 0.])\n",
      "X:\n",
      " tensor([[-0.8777, -0.9495],\n",
      "        [ 1.5962,  0.1014],\n",
      "        [ 0.9474,  0.7797],\n",
      "        [ 0.9743, -0.5976],\n",
      "        [-1.1408,  0.7222],\n",
      "        [ 1.1063,  0.4661],\n",
      "        [-0.6893,  0.8878],\n",
      "        [-1.6760, -0.8968],\n",
      "        [-1.3875, -1.0486],\n",
      "        [-0.6696, -0.1858]])\n",
      "y:\n",
      " tensor([0., 1., 1., 0., 1., 1., 1., 0., 0., 0.])\n"
     ]
    }
   ],
   "source": [
    "n = 10\n",
    "d = 2\n",
    "X = torch.randn((n,d))\n",
    "beta = torch.tensor([1., 2.])\n",
    "print(beta)\n",
    "\n",
    "# Etichette binarie: 1 se il prodotto scalare è positivo, 0 altrimenti\n",
    "y = (X @ beta > 0).float()\n",
    "\n",
    "print(y)\n",
    "\n",
    "print(\"X:\\n\", X)\n",
    "print(\"y:\\n\", y)"
   ]
  },
  {
   "cell_type": "code",
   "execution_count": null,
   "id": "3d579375",
   "metadata": {},
   "outputs": [],
   "source": []
  }
 ],
 "metadata": {
  "kernelspec": {
   "display_name": "Python 3",
   "language": "python",
   "name": "python3"
  },
  "language_info": {
   "codemirror_mode": {
    "name": "ipython",
    "version": 3
   },
   "file_extension": ".py",
   "mimetype": "text/x-python",
   "name": "python",
   "nbconvert_exporter": "python",
   "pygments_lexer": "ipython3",
   "version": "3.11.3"
  }
 },
 "nbformat": 4,
 "nbformat_minor": 5
}
