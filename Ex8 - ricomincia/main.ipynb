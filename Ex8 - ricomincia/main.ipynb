{
 "cells": [
  {
   "cell_type": "code",
   "execution_count": 1,
   "id": "a86b29fd",
   "metadata": {},
   "outputs": [],
   "source": [
    "import torch"
   ]
  },
  {
   "cell_type": "code",
   "execution_count": 2,
   "id": "5efbfba0",
   "metadata": {},
   "outputs": [
    {
     "name": "stdout",
     "output_type": "stream",
     "text": [
      "tensor([[0.1106, 0.5393, 0.1928],\n",
      "        [0.5187, 0.8729, 0.2554],\n",
      "        [0.1710, 0.9611, 0.9671]])\n",
      "tensor([[0., 0., 0.],\n",
      "        [0., 0., 0.],\n",
      "        [0., 0., 0.]])\n",
      "tensor([[0.1106, 0.5393, 0.1928],\n",
      "        [0.5187, 0.8729, 0.2554],\n",
      "        [0.1710, 0.9611, 0.9671]])\n",
      "tensor([[0.1106, 0.5393, 0.1928, 0.5187, 0.8729, 0.2554, 0.1710, 0.9611, 0.9671]])\n",
      "tensor(0.9671)\n"
     ]
    }
   ],
   "source": [
    "mat = torch.rand((3,3))\n",
    "print(mat)\n",
    "\n",
    "mat2 = torch.zeros((3,3))\n",
    "print(mat2)\n",
    "\n",
    "mat3 = mat + mat2\n",
    "print(mat3)\n",
    "\n",
    "vector = mat3.reshape(1,-1)\n",
    "print(vector)\n",
    "\n",
    "maxim = torch.max(vector)\n",
    "print(maxim)"
   ]
  },
  {
   "cell_type": "code",
   "execution_count": 3,
   "id": "0e0029a1",
   "metadata": {},
   "outputs": [
    {
     "name": "stdout",
     "output_type": "stream",
     "text": [
      "tensor([0.0931], requires_grad=True)\n",
      "tensor([4.1862])\n"
     ]
    }
   ],
   "source": [
    "# 1. Crea un tensore con requires_grad=True\n",
    "x = torch.rand(1, requires_grad=True)\n",
    "print(x)\n",
    "\n",
    "# 2. Costruisci la funzione: y = x^2 + 3x + 2\n",
    "y = x**2 + 3*x + 2\n",
    "z = 1*x\n",
    "\n",
    "# 3. Calcola il gradiente di y rispetto a x\n",
    "y.backward()\n",
    "z.backward()\n",
    "print(x.grad)\n"
   ]
  },
  {
   "cell_type": "code",
   "execution_count": 4,
   "id": "768ba3bc",
   "metadata": {},
   "outputs": [
    {
     "name": "stdout",
     "output_type": "stream",
     "text": [
      "Betahat:\n",
      " tensor([[-42.9197],\n",
      "        [-62.3390],\n",
      "        [ 69.4050],\n",
      "        [ 63.7649],\n",
      "        [120.6579]], requires_grad=True)\n",
      "Beta (vero):\n",
      " tensor([[-42.8911],\n",
      "        [-62.3627],\n",
      "        [ 69.4430],\n",
      "        [ 63.7584],\n",
      "        [120.6446]])\n"
     ]
    }
   ],
   "source": [
    "import torch\n",
    "\n",
    "n = 100\n",
    "d = 5\n",
    "itera = 1000\n",
    "lr = 0.001\n",
    "\n",
    "x = torch.rand((n, d))\n",
    "beta = 100*torch.randn((d, 1))                    # Coefficienti veri non nulli\n",
    "noise = 0.1 * torch.randn((n, 1))             # Rumore piccolo, media zero\n",
    "y = x @ beta + noise\n",
    "\n",
    "betahat = torch.zeros((d, 1), requires_grad=True)\n",
    "optimizer = torch.optim.SGD([betahat], lr=lr)\n",
    "\n",
    "for i in range(itera):\n",
    "    optimizer.zero_grad()\n",
    "    loss = torch.sum((y - x @ betahat) ** 2)\n",
    "\n",
    "    loss.backward()\n",
    "    optimizer.step()\n",
    "\n",
    "print(\"Betahat:\\n\", betahat)\n",
    "print(\"Beta (vero):\\n\", beta)"
   ]
  },
  {
   "cell_type": "code",
   "execution_count": 5,
   "id": "f0962eef",
   "metadata": {},
   "outputs": [],
   "source": [
    "import torch.nn as nn"
   ]
  },
  {
   "cell_type": "code",
   "execution_count": 6,
   "id": "e58dabeb",
   "metadata": {},
   "outputs": [],
   "source": [
    "class SimpleNN(nn.Module):\n",
    "    def __init__(self, input_dim, hidden_dim=10, output_dim=1):\n",
    "        super().__init__()\n",
    "        self.fc1 = nn.Linear(input_dim, hidden_dim)\n",
    "        self.fc2 = nn.Linear(hidden_dim, output_dim)\n",
    "    \n",
    "    def forward(self, x):\n",
    "        mid = torch.relu(self.fc1(x))\n",
    "        return self.fc2(mid)\n",
    "    \n",
    "model = SimpleNN(d)"
   ]
  },
  {
   "cell_type": "code",
   "execution_count": 7,
   "id": "2444f378",
   "metadata": {},
   "outputs": [],
   "source": [
    "criterion = nn.MSELoss()\n",
    "optimizer = torch.optim.Adam(model.parameters(), lr=0.05)"
   ]
  },
  {
   "cell_type": "code",
   "execution_count": 8,
   "id": "6fe6d6da",
   "metadata": {},
   "outputs": [
    {
     "name": "stdout",
     "output_type": "stream",
     "text": [
      "Epoch 0: Loss = 8223.5215\n",
      "Epoch 10: Loss = 7478.3735\n",
      "Epoch 20: Loss = 5722.2271\n",
      "Epoch 30: Loss = 3424.3037\n",
      "Epoch 40: Loss = 2001.9698\n",
      "Epoch 50: Loss = 1733.0077\n",
      "Epoch 60: Loss = 1349.4918\n",
      "Epoch 70: Loss = 991.8601\n",
      "Epoch 80: Loss = 683.7454\n",
      "Epoch 90: Loss = 430.5856\n",
      "Epoch 100: Loss = 244.2715\n",
      "Epoch 110: Loss = 126.2532\n",
      "Epoch 120: Loss = 62.5772\n",
      "Epoch 130: Loss = 31.8985\n",
      "Epoch 140: Loss = 17.7884\n",
      "Epoch 150: Loss = 10.9753\n",
      "Epoch 160: Loss = 7.4229\n",
      "Epoch 170: Loss = 5.2858\n",
      "Epoch 180: Loss = 3.7787\n",
      "Epoch 190: Loss = 2.6698\n",
      "Epoch 200: Loss = 1.8675\n",
      "Epoch 210: Loss = 1.3003\n",
      "Epoch 220: Loss = 0.9044\n",
      "Epoch 230: Loss = 0.6339\n",
      "Epoch 240: Loss = 0.4473\n",
      "Epoch 250: Loss = 0.3173\n",
      "Epoch 260: Loss = 0.2266\n",
      "Epoch 270: Loss = 0.1631\n",
      "Epoch 280: Loss = 0.1186\n",
      "Epoch 290: Loss = 0.0873\n",
      "Epoch 300: Loss = 0.0650\n",
      "Epoch 310: Loss = 0.0491\n",
      "Epoch 320: Loss = 0.0376\n",
      "Epoch 330: Loss = 0.0293\n",
      "Epoch 340: Loss = 0.0232\n",
      "Epoch 350: Loss = 0.0188\n",
      "Epoch 360: Loss = 0.0155\n",
      "Epoch 370: Loss = 0.0131\n",
      "Epoch 380: Loss = 0.0113\n",
      "Epoch 390: Loss = 0.0100\n",
      "Epoch 400: Loss = 0.0090\n",
      "Epoch 410: Loss = 0.0083\n",
      "Epoch 420: Loss = 0.0078\n",
      "Epoch 430: Loss = 0.0074\n",
      "Epoch 440: Loss = 0.0071\n",
      "Epoch 450: Loss = 0.0069\n",
      "Epoch 460: Loss = 0.0068\n",
      "Epoch 470: Loss = 0.0067\n",
      "Epoch 480: Loss = 0.0066\n",
      "Epoch 490: Loss = 0.0066\n",
      "Epoch 500: Loss = 0.0065\n",
      "Epoch 510: Loss = 0.0065\n",
      "Epoch 520: Loss = 0.0065\n",
      "Epoch 530: Loss = 0.0065\n",
      "Epoch 540: Loss = 0.0065\n",
      "Epoch 550: Loss = 0.0065\n",
      "Epoch 560: Loss = 0.0065\n",
      "Epoch 570: Loss = 0.0065\n",
      "Epoch 580: Loss = 0.0065\n",
      "Epoch 590: Loss = 0.0065\n",
      "Epoch 600: Loss = 0.0065\n",
      "Epoch 610: Loss = 0.0065\n",
      "Epoch 620: Loss = 0.0065\n",
      "Epoch 630: Loss = 0.0065\n",
      "Epoch 640: Loss = 0.0065\n",
      "Epoch 650: Loss = 0.0065\n",
      "Epoch 660: Loss = 0.0065\n",
      "Epoch 670: Loss = 0.0065\n",
      "Epoch 680: Loss = 0.0065\n",
      "Epoch 690: Loss = 0.0065\n",
      "Epoch 700: Loss = 0.0065\n",
      "Epoch 710: Loss = 0.0065\n",
      "Epoch 720: Loss = 0.0065\n",
      "Epoch 730: Loss = 0.0065\n",
      "Epoch 740: Loss = 0.0065\n",
      "Epoch 750: Loss = 0.0065\n",
      "Epoch 760: Loss = 0.0065\n",
      "Epoch 770: Loss = 0.0065\n",
      "Epoch 780: Loss = 0.0065\n",
      "Epoch 790: Loss = 0.0065\n",
      "Epoch 800: Loss = 0.0065\n",
      "Epoch 810: Loss = 0.0065\n",
      "Epoch 820: Loss = 0.0065\n",
      "Epoch 830: Loss = 0.0065\n",
      "Epoch 840: Loss = 0.0065\n",
      "Epoch 850: Loss = 0.0065\n",
      "Epoch 860: Loss = 0.0065\n",
      "Epoch 870: Loss = 0.0065\n",
      "Epoch 880: Loss = 0.0065\n",
      "Epoch 890: Loss = 0.0065\n",
      "Epoch 900: Loss = 0.0065\n",
      "Epoch 910: Loss = 0.0065\n",
      "Epoch 920: Loss = 0.0065\n",
      "Epoch 930: Loss = 0.0065\n",
      "Epoch 940: Loss = 0.0065\n",
      "Epoch 950: Loss = 0.0065\n",
      "Epoch 960: Loss = 0.0065\n",
      "Epoch 970: Loss = 0.0065\n",
      "Epoch 980: Loss = 0.0065\n",
      "Epoch 990: Loss = 0.0065\n"
     ]
    }
   ],
   "source": [
    "for i in range(itera):\n",
    "    optimizer.zero_grad()\n",
    "    y_pred = model(x)\n",
    "    loss = criterion(y, y_pred)\n",
    "\n",
    "    optimizer.zero_grad()\n",
    "    loss.backward()\n",
    "    optimizer.step()\n",
    "\n",
    "    if i % 10 == 0:\n",
    "        print(f\"Epoch {i}: Loss = {loss.item():.4f}\")"
   ]
  },
  {
   "cell_type": "code",
   "execution_count": null,
   "id": "2d75f757",
   "metadata": {},
   "outputs": [],
   "source": []
  }
 ],
 "metadata": {
  "kernelspec": {
   "display_name": "Python 3",
   "language": "python",
   "name": "python3"
  },
  "language_info": {
   "codemirror_mode": {
    "name": "ipython",
    "version": 3
   },
   "file_extension": ".py",
   "mimetype": "text/x-python",
   "name": "python",
   "nbconvert_exporter": "python",
   "pygments_lexer": "ipython3",
   "version": "3.11.3"
  }
 },
 "nbformat": 4,
 "nbformat_minor": 5
}
