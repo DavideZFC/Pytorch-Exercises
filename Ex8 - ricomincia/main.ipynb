{
 "cells": [
  {
   "cell_type": "code",
   "execution_count": 1,
   "id": "a86b29fd",
   "metadata": {},
   "outputs": [],
   "source": [
    "import torch"
   ]
  },
  {
   "cell_type": "code",
   "execution_count": 2,
   "id": "5efbfba0",
   "metadata": {},
   "outputs": [
    {
     "name": "stdout",
     "output_type": "stream",
     "text": [
      "tensor([[0.0861, 0.4023, 0.2880],\n",
      "        [0.2720, 0.1297, 0.9665],\n",
      "        [0.3139, 0.6295, 0.9025]])\n",
      "tensor([[0., 0., 0.],\n",
      "        [0., 0., 0.],\n",
      "        [0., 0., 0.]])\n",
      "tensor([[0.0861, 0.4023, 0.2880],\n",
      "        [0.2720, 0.1297, 0.9665],\n",
      "        [0.3139, 0.6295, 0.9025]])\n",
      "tensor([[0.0861, 0.4023, 0.2880, 0.2720, 0.1297, 0.9665, 0.3139, 0.6295, 0.9025]])\n",
      "tensor(0.9665)\n"
     ]
    }
   ],
   "source": [
    "mat = torch.rand((3,3))\n",
    "print(mat)\n",
    "\n",
    "mat2 = torch.zeros((3,3))\n",
    "print(mat2)\n",
    "\n",
    "mat3 = mat + mat2\n",
    "print(mat3)\n",
    "\n",
    "vector = mat3.reshape(1,-1)\n",
    "print(vector)\n",
    "\n",
    "maxim = torch.max(vector)\n",
    "print(maxim)"
   ]
  },
  {
   "cell_type": "code",
   "execution_count": 3,
   "id": "0e0029a1",
   "metadata": {},
   "outputs": [
    {
     "name": "stdout",
     "output_type": "stream",
     "text": [
      "tensor([0.5545], requires_grad=True)\n",
      "tensor([5.1090])\n"
     ]
    }
   ],
   "source": [
    "# 1. Crea un tensore con requires_grad=True\n",
    "x = torch.rand(1, requires_grad=True)\n",
    "print(x)\n",
    "\n",
    "# 2. Costruisci la funzione: y = x^2 + 3x + 2\n",
    "y = x**2 + 3*x + 2\n",
    "z = 1*x\n",
    "\n",
    "# 3. Calcola il gradiente di y rispetto a x\n",
    "y.backward()\n",
    "z.backward()\n",
    "print(x.grad)\n"
   ]
  },
  {
   "cell_type": "code",
   "execution_count": 25,
   "id": "768ba3bc",
   "metadata": {},
   "outputs": [
    {
     "name": "stdout",
     "output_type": "stream",
     "text": [
      "Betahat:\n",
      " tensor([[171.8245],\n",
      "        [-14.6873],\n",
      "        [-23.2674],\n",
      "        [ 32.7727],\n",
      "        [ 50.9832]], requires_grad=True)\n",
      "Beta (vero):\n",
      " tensor([[171.8454],\n",
      "        [-14.6993],\n",
      "        [-23.2605],\n",
      "        [ 32.7477],\n",
      "        [ 50.9992]])\n"
     ]
    }
   ],
   "source": [
    "import torch\n",
    "\n",
    "n = 100\n",
    "d = 5\n",
    "itera = 1000\n",
    "lr = 0.001\n",
    "\n",
    "x = torch.rand((n, d))\n",
    "beta = 100*torch.randn((d, 1))                    # Coefficienti veri non nulli\n",
    "noise = 0.1 * torch.randn((n, 1))             # Rumore piccolo, media zero\n",
    "y = x @ beta + noise\n",
    "\n",
    "betahat = torch.zeros((d, 1), requires_grad=True)\n",
    "optimizer = torch.optim.SGD([betahat], lr=lr)\n",
    "\n",
    "for i in range(itera):\n",
    "    optimizer.zero_grad()\n",
    "    loss = torch.sum((y - x @ betahat) ** 2)\n",
    "\n",
    "    loss.backward()\n",
    "    optimizer.step()\n",
    "\n",
    "print(\"Betahat:\\n\", betahat)\n",
    "print(\"Beta (vero):\\n\", beta)"
   ]
  },
  {
   "cell_type": "code",
   "execution_count": 14,
   "id": "f0962eef",
   "metadata": {},
   "outputs": [],
   "source": [
    "import torch.nn as nn"
   ]
  },
  {
   "cell_type": "code",
   "execution_count": 26,
   "id": "e58dabeb",
   "metadata": {},
   "outputs": [],
   "source": [
    "class SimpleNN(nn.Module):\n",
    "    def __init__(self, input_dim, hidden_dim=10, output_dim=1):\n",
    "        super().__init__()\n",
    "        self.fc1 = nn.Linear(input_dim, hidden_dim)\n",
    "        self.fc2 = nn.Linear(hidden_dim, output_dim)\n",
    "    \n",
    "    def forward(self, x):\n",
    "        mid = torch.relu(self.fc1(x))\n",
    "        return self.fc2(mid)\n",
    "    \n",
    "model = SimpleNN(d)"
   ]
  },
  {
   "cell_type": "code",
   "execution_count": 27,
   "id": "2444f378",
   "metadata": {},
   "outputs": [],
   "source": [
    "criterion = nn.MSELoss()\n",
    "optimizer = torch.optim.Adam(model.parameters(), lr=0.05)"
   ]
  },
  {
   "cell_type": "code",
   "execution_count": 28,
   "id": "6fe6d6da",
   "metadata": {},
   "outputs": [
    {
     "name": "stdout",
     "output_type": "stream",
     "text": [
      "Epoch 0: Loss = 13258.4902\n",
      "Epoch 10: Loss = 11762.6416\n",
      "Epoch 20: Loss = 8398.1084\n",
      "Epoch 30: Loss = 4449.5791\n",
      "Epoch 40: Loss = 2779.4988\n",
      "Epoch 50: Loss = 2803.0752\n",
      "Epoch 60: Loss = 2337.8511\n",
      "Epoch 70: Loss = 2109.2827\n",
      "Epoch 80: Loss = 1853.8573\n",
      "Epoch 90: Loss = 1609.6769\n",
      "Epoch 100: Loss = 1369.3868\n",
      "Epoch 110: Loss = 1133.9597\n",
      "Epoch 120: Loss = 908.9283\n",
      "Epoch 130: Loss = 700.8144\n",
      "Epoch 140: Loss = 518.2951\n",
      "Epoch 150: Loss = 368.4298\n",
      "Epoch 160: Loss = 254.7660\n",
      "Epoch 170: Loss = 175.6570\n",
      "Epoch 180: Loss = 124.9718\n",
      "Epoch 190: Loss = 92.8257\n",
      "Epoch 200: Loss = 71.7219\n",
      "Epoch 210: Loss = 57.2134\n",
      "Epoch 220: Loss = 46.6869\n",
      "Epoch 230: Loss = 38.7486\n",
      "Epoch 240: Loss = 32.6295\n",
      "Epoch 250: Loss = 27.6756\n",
      "Epoch 260: Loss = 23.6809\n",
      "Epoch 270: Loss = 20.3666\n",
      "Epoch 280: Loss = 17.5681\n",
      "Epoch 290: Loss = 15.1923\n",
      "Epoch 300: Loss = 13.1732\n",
      "Epoch 310: Loss = 11.4565\n",
      "Epoch 320: Loss = 10.0007\n",
      "Epoch 330: Loss = 8.7704\n",
      "Epoch 340: Loss = 7.7389\n",
      "Epoch 350: Loss = 6.8892\n",
      "Epoch 360: Loss = 6.1853\n",
      "Epoch 370: Loss = 5.6073\n",
      "Epoch 380: Loss = 5.1339\n",
      "Epoch 390: Loss = 4.7470\n",
      "Epoch 400: Loss = 4.4317\n",
      "Epoch 410: Loss = 4.1759\n",
      "Epoch 420: Loss = 3.9692\n",
      "Epoch 430: Loss = 3.8034\n",
      "Epoch 440: Loss = 3.6723\n",
      "Epoch 450: Loss = 3.5676\n",
      "Epoch 460: Loss = 3.4842\n",
      "Epoch 470: Loss = 3.4187\n",
      "Epoch 480: Loss = 3.3669\n",
      "Epoch 490: Loss = 3.3258\n",
      "Epoch 500: Loss = 3.2931\n",
      "Epoch 510: Loss = 3.2669\n",
      "Epoch 520: Loss = 3.2459\n",
      "Epoch 530: Loss = 3.2288\n",
      "Epoch 540: Loss = 3.2149\n",
      "Epoch 550: Loss = 3.2032\n",
      "Epoch 560: Loss = 3.1934\n",
      "Epoch 570: Loss = 3.1850\n",
      "Epoch 580: Loss = 3.1775\n",
      "Epoch 590: Loss = 3.1709\n",
      "Epoch 600: Loss = 3.1648\n",
      "Epoch 610: Loss = 3.1591\n",
      "Epoch 620: Loss = 3.1537\n",
      "Epoch 630: Loss = 3.1486\n",
      "Epoch 640: Loss = 3.1436\n",
      "Epoch 650: Loss = 3.1387\n",
      "Epoch 660: Loss = 3.1338\n",
      "Epoch 670: Loss = 3.1290\n",
      "Epoch 680: Loss = 3.1242\n",
      "Epoch 690: Loss = 3.1195\n",
      "Epoch 700: Loss = 3.1147\n",
      "Epoch 710: Loss = 3.1099\n",
      "Epoch 720: Loss = 3.1050\n",
      "Epoch 730: Loss = 3.1002\n",
      "Epoch 740: Loss = 3.0953\n",
      "Epoch 750: Loss = 3.0904\n",
      "Epoch 760: Loss = 3.0855\n",
      "Epoch 770: Loss = 3.0805\n",
      "Epoch 780: Loss = 3.0756\n",
      "Epoch 790: Loss = 3.0705\n",
      "Epoch 800: Loss = 3.0655\n",
      "Epoch 810: Loss = 3.0604\n",
      "Epoch 820: Loss = 3.0553\n",
      "Epoch 830: Loss = 3.0501\n",
      "Epoch 840: Loss = 3.0450\n",
      "Epoch 850: Loss = 3.0398\n",
      "Epoch 860: Loss = 3.0345\n",
      "Epoch 870: Loss = 3.0293\n",
      "Epoch 880: Loss = 3.0240\n",
      "Epoch 890: Loss = 3.0187\n",
      "Epoch 900: Loss = 3.0133\n",
      "Epoch 910: Loss = 3.0080\n",
      "Epoch 920: Loss = 3.0026\n",
      "Epoch 930: Loss = 2.9972\n",
      "Epoch 940: Loss = 2.9917\n",
      "Epoch 950: Loss = 2.9862\n",
      "Epoch 960: Loss = 2.9807\n",
      "Epoch 970: Loss = 2.9752\n",
      "Epoch 980: Loss = 2.9696\n",
      "Epoch 990: Loss = 2.9641\n"
     ]
    }
   ],
   "source": [
    "for i in range(itera):\n",
    "    optimizer.zero_grad()\n",
    "    y_pred = model(x)\n",
    "    loss = criterion(y, y_pred)\n",
    "\n",
    "    optimizer.zero_grad()\n",
    "    loss.backward()\n",
    "    optimizer.step()\n",
    "\n",
    "    if i % 10 == 0:\n",
    "        print(f\"Epoch {i}: Loss = {loss.item():.4f}\")"
   ]
  }
 ],
 "metadata": {
  "kernelspec": {
   "display_name": "Python 3",
   "language": "python",
   "name": "python3"
  },
  "language_info": {
   "codemirror_mode": {
    "name": "ipython",
    "version": 3
   },
   "file_extension": ".py",
   "mimetype": "text/x-python",
   "name": "python",
   "nbconvert_exporter": "python",
   "pygments_lexer": "ipython3",
   "version": "3.11.3"
  }
 },
 "nbformat": 4,
 "nbformat_minor": 5
}
