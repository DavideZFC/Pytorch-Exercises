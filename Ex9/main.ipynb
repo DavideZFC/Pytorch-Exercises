{
 "cells": [
  {
   "cell_type": "code",
   "execution_count": 1,
   "id": "de3ee9d8",
   "metadata": {},
   "outputs": [],
   "source": [
    "import torch"
   ]
  },
  {
   "cell_type": "code",
   "execution_count": 2,
   "id": "c6e563d1",
   "metadata": {},
   "outputs": [],
   "source": [
    "def true_function(x):\n",
    "    return torch.sin(x)"
   ]
  },
  {
   "cell_type": "code",
   "execution_count": 5,
   "id": "c953b378",
   "metadata": {},
   "outputs": [],
   "source": [
    "import torch.nn as nn\n",
    "\n",
    "class SimpleNN(nn.Module):\n",
    "    def __init__(self, input_dim, hidden_dim=10, output_dim=1):\n",
    "        super().__init__()\n",
    "        self.fc1 = nn.Linear(input_dim, hidden_dim)\n",
    "        self.fc2 = nn.Linear(hidden_dim, output_dim)\n",
    "    \n",
    "    def forward(self, x):\n",
    "        return self.fc2(torch.relu(self.fc1(x)))"
   ]
  },
  {
   "cell_type": "code",
   "execution_count": 8,
   "id": "66fb1c79",
   "metadata": {},
   "outputs": [],
   "source": [
    "model = SimpleNN(1)\n",
    "\n",
    "n = 100\n",
    "data = torch.randn((100,1))\n",
    "target = true_function(data)\n"
   ]
  },
  {
   "cell_type": "code",
   "execution_count": 9,
   "id": "5c05783d",
   "metadata": {},
   "outputs": [
    {
     "name": "stdout",
     "output_type": "stream",
     "text": [
      "Epoch 0: Loss = 0.5877\n",
      "Epoch 10: Loss = 0.0711\n",
      "Epoch 20: Loss = 0.0464\n",
      "Epoch 30: Loss = 0.0292\n",
      "Epoch 40: Loss = 0.0229\n",
      "Epoch 50: Loss = 0.0208\n",
      "Epoch 60: Loss = 0.0201\n",
      "Epoch 70: Loss = 0.0197\n",
      "Epoch 80: Loss = 0.0195\n",
      "Epoch 90: Loss = 0.0193\n"
     ]
    }
   ],
   "source": [
    "criterion = nn.MSELoss()\n",
    "optimizer = torch.optim.Adam(model.parameters(), lr=0.05)\n",
    "itera = 100\n",
    "\n",
    "for i in range(itera):\n",
    "    optimizer.zero_grad()\n",
    "    y_pred = model(data)\n",
    "    loss = criterion(target, y_pred)\n",
    "    \n",
    "    loss.backward()\n",
    "    optimizer.step()\n",
    "\n",
    "    if i % 10 == 0:\n",
    "        print(f\"Epoch {i}: Loss = {loss.item():.4f}\")"
   ]
  },
  {
   "cell_type": "code",
   "execution_count": 17,
   "id": "86d91492",
   "metadata": {},
   "outputs": [
    {
     "name": "stdout",
     "output_type": "stream",
     "text": [
      "0.00016594577755313367\n",
      "0.00038974761264398694\n",
      "0.0009039189899340272\n",
      "0.0020059545058757067\n",
      "0.003996104467660189\n",
      "0.006587793584913015\n",
      "0.008731801062822342\n",
      "0.009872845374047756\n",
      "0.010319882072508335\n",
      "0.010468275286257267\n"
     ]
    }
   ],
   "source": [
    "x_var = torch.zeros(1,requires_grad=True)\n",
    "lr = 0.05\n",
    "\n",
    "for i in range(10*itera):\n",
    "    y = true_function(x_var)\n",
    "    y_pred = model(x_var)\n",
    "    loss = (y-y_pred)**2\n",
    "\n",
    "    loss.backward()\n",
    "    grad = x_var.grad.clone()\n",
    "    with torch.no_grad():\n",
    "        x_var += lr*grad\n",
    "    \n",
    "    x_var.grad.zero_()\n",
    "    if i % 100 == 0:\n",
    "        print(loss.item())\n"
   ]
  },
  {
   "cell_type": "code",
   "execution_count": 16,
   "id": "2dcf375c",
   "metadata": {},
   "outputs": [
    {
     "data": {
      "text/plain": [
       "tensor([0.6376], requires_grad=True)"
      ]
     },
     "execution_count": 16,
     "metadata": {},
     "output_type": "execute_result"
    }
   ],
   "source": [
    "x_var"
   ]
  }
 ],
 "metadata": {
  "kernelspec": {
   "display_name": "Python 3",
   "language": "python",
   "name": "python3"
  },
  "language_info": {
   "codemirror_mode": {
    "name": "ipython",
    "version": 3
   },
   "file_extension": ".py",
   "mimetype": "text/x-python",
   "name": "python",
   "nbconvert_exporter": "python",
   "pygments_lexer": "ipython3",
   "version": "3.11.3"
  }
 },
 "nbformat": 4,
 "nbformat_minor": 5
}
